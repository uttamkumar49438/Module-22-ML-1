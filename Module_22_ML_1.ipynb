{
  "nbformat": 4,
  "nbformat_minor": 0,
  "metadata": {
    "colab": {
      "provenance": []
    },
    "kernelspec": {
      "name": "python3",
      "display_name": "Python 3"
    },
    "language_info": {
      "name": "python"
    }
  },
  "cells": [
    {
      "cell_type": "markdown",
      "source": [
        "Q1) Explain the  following with an example\n",
        "a) Artificial Intelligence\n",
        "b) Machine Learning\n",
        "c) deepp Learning"
      ],
      "metadata": {
        "id": "4c0FjAYe8u6N"
      }
    },
    {
      "cell_type": "markdown",
      "source": [
        "\n",
        "Sure, let's explain each of these terms with examples:\n",
        "\n",
        "a) Artificial Intelligence (AI):\n",
        "Example: One example of AI is virtual assistants like Apple's Siri, Amazon's Alexa, or Google Assistant. These assistants use natural language processing and machine learning algorithms to understand and respond to user queries, making them seem more human-like in their interactions.\n",
        "\n",
        "b) Machine Learning (ML):\n",
        "Example: An example of machine learning is email spam filters. These filters learn from examples of spam and non-spam emails provided by users, and then use this knowledge to classify incoming emails as either spam or not spam.\n",
        "\n",
        "c)Deep Learning:\n",
        "Example: An example of deep learning is image recognition software. For instance, deep learning models like Convolutional Neural Networks (CNNs) can be trained on large datasets of images to accurately recognize objects, faces, or scenes in images, with applications ranging from autonomous vehicles to medical imaging."
      ],
      "metadata": {
        "id": "6LGkSCaf-K5k"
      }
    },
    {
      "cell_type": "markdown",
      "source": [
        "\n",
        "Q2- What is supervised Learning?\n"
      ],
      "metadata": {
        "id": "raBF-FNK-lbK"
      }
    },
    {
      "cell_type": "markdown",
      "source": [
        "Supervised learning is a type of machine learning where the model is trained on a labeled dataset, which means the input data is paired with the correct output. The goal of supervised learning is to learn a mapping from input variables to output variables, based on example input-output pairs."
      ],
      "metadata": {
        "id": "M2ipziuA-tjz"
      }
    },
    {
      "cell_type": "markdown",
      "source": [
        "Q3- What is unsupervised Learning?"
      ],
      "metadata": {
        "id": "gao5_SFn-mWZ"
      }
    },
    {
      "cell_type": "markdown",
      "source": [
        " Unsupervised learning is a type of machine learning where the model is trained on an unlabeled dataset, meaning the input data does not have corresponding output labels. The goal of unsupervised learning is to find hidden patterns or structures in the data, without explicit guidance on what to look for."
      ],
      "metadata": {
        "id": "3Xd_cUWg-zcO"
      }
    },
    {
      "cell_type": "markdown",
      "source": [
        "Q4- What is the difference between AI, ML, DL, and DS?"
      ],
      "metadata": {
        "id": "9j0Qz19G-0a5"
      }
    },
    {
      "cell_type": "markdown",
      "source": [
        "AI is the overarching concept of creating machines that can perform tasks intelligently, ML is a subset of AI that focuses on learning from data, DL is a subset of ML that uses deep neural networks to learn complex representations, and DS involves extracting insights and knowledge from data using various techniques and methodologies."
      ],
      "metadata": {
        "id": "S7j8cLrT-4eA"
      }
    },
    {
      "cell_type": "markdown",
      "source": [
        "Q5- What are the main differences between supervised, un supervised and semi supervised learning?"
      ],
      "metadata": {
        "id": "j2TAYRq3--8z"
      }
    },
    {
      "cell_type": "markdown",
      "source": [
        " the main differences between supervised, unsupervised, and semi-supervised learning lie in the presence or absence of labeled data, and the corresponding objectives of each approach. Supervised learning relies on labeled data for training, unsupervised learning operates on unlabeled data to discover hidden patterns, and semi-supervised learning combines both labeled and unlabeled data to improve model performance."
      ],
      "metadata": {
        "id": "DqIN9NlP_BR9"
      }
    },
    {
      "cell_type": "markdown",
      "source": [
        "Q6- What is train, test and validation split? Explain the importance of each term."
      ],
      "metadata": {
        "id": "-86bGxSr_Fx6"
      }
    },
    {
      "cell_type": "markdown",
      "source": [
        "=Training Set: It is crucial for teaching the model to recognize patterns and relationships in the data, enabling it to make accurate predictions or classifications.\n",
        "=Test Set: It provides an unbiased estimate of the model's performance on unseen data, allowing us to assess its generalization capabilities and identify potential issues such as overfitting.\n",
        "=Validation Set: It helps fine-tune model hyperparameters and prevent overfitting by providing an independent dataset to validate the model's performance during training."
      ],
      "metadata": {
        "id": "tsF9QFc2_IYb"
      }
    },
    {
      "cell_type": "markdown",
      "source": [
        "Q7- How can unsupervised learning be used in anamoly detection?"
      ],
      "metadata": {
        "id": "bNezyyKj_O-5"
      }
    },
    {
      "cell_type": "markdown",
      "source": [
        "unsupervised learning techniques provide valuable tools for detecting anomalies in various domains by leveraging the inherent structure and characteristics of the data without requiring labeled examples of anomalies. These methods can effectively identify unusual patterns or outliers that may indicate potential issues or threats."
      ],
      "metadata": {
        "id": "dq4TSEytBIZJ"
      }
    },
    {
      "cell_type": "markdown",
      "source": [
        "Q8- List down some commonly used supervised learning algorithms and unsupervised learning algorithms\n",
        "\n"
      ],
      "metadata": {
        "id": "CVv56dbQBJPZ"
      }
    },
    {
      "cell_type": "markdown",
      "source": [
        "K-Means Clustering\n",
        "Hierarchical Clustering\n",
        "Gaussian Mixture Models (GMM)"
      ],
      "metadata": {
        "id": "ZP13D7rJBNmp"
      }
    }
  ]
}